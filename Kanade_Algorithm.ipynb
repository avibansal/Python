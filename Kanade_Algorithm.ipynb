{
  "nbformat": 4,
  "nbformat_minor": 0,
  "metadata": {
    "colab": {
      "provenance": [],
      "authorship_tag": "ABX9TyMty1qONw4iX9eNaMaRD4WS",
      "include_colab_link": true
    },
    "kernelspec": {
      "name": "python3",
      "display_name": "Python 3"
    },
    "language_info": {
      "name": "python"
    }
  },
  "cells": [
    {
      "cell_type": "markdown",
      "metadata": {
        "id": "view-in-github",
        "colab_type": "text"
      },
      "source": [
        "<a href=\"https://colab.research.google.com/github/avibansal/Python/blob/main/Kanade_Algorithm.ipynb\" target=\"_parent\"><img src=\"https://colab.research.google.com/assets/colab-badge.svg\" alt=\"Open In Colab\"/></a>"
      ]
    },
    {
      "cell_type": "markdown",
      "source": [
        "## **Largest Sum Contiguous Subarray (Kadane's Algorithm)**"
      ],
      "metadata": {
        "id": "JViIKeqmV_mt"
      }
    },
    {
      "cell_type": "code",
      "execution_count": 19,
      "metadata": {
        "id": "ZIa405CkNKLv"
      },
      "outputs": [],
      "source": [
        "nums = [-2,1,-3,4,-1,2,1,-5,4]"
      ]
    },
    {
      "cell_type": "markdown",
      "source": [
        "Problem :- https://leetcode.com/problems/maximum-subarray/"
      ],
      "metadata": {
        "id": "RjMdw-RlXAGM"
      }
    },
    {
      "cell_type": "code",
      "source": [
        "CurrSum=0\n",
        "MaxSum=nums[0]\n",
        "\n",
        "for num in nums:\n",
        "  CurrSum+=num\n",
        "  CurrSum=max(CurrSum,0)\n",
        "  MaxSum=max(MaxSum,CurrSum)\n",
        "print(MaxSum)   #Maximum Subarray Sum"
      ],
      "metadata": {
        "colab": {
          "base_uri": "https://localhost:8080/"
        },
        "id": "aofYsLG0NiIw",
        "outputId": "f19c9276-e914-4e68-9010-9a0a6ed0ed9b"
      },
      "execution_count": 20,
      "outputs": [
        {
          "output_type": "stream",
          "name": "stdout",
          "text": [
            "6\n"
          ]
        }
      ]
    },
    {
      "cell_type": "code",
      "source": [
        "CurrSum=0\n",
        "MinSum=nums[0]\n",
        "\n",
        "for num in nums:\n",
        "  CurrSum+=num\n",
        "  CurrSum=min(CurrSum,0)\n",
        "  MinSum=min(MinSum,CurrSum)\n",
        "print(MinSum)   #Minimum Subarray sum"
      ],
      "metadata": {
        "colab": {
          "base_uri": "https://localhost:8080/"
        },
        "id": "p9rEMP34OLEJ",
        "outputId": "5bd9b654-e9a8-4b68-eb93-4a311e8ec18a"
      },
      "execution_count": 21,
      "outputs": [
        {
          "output_type": "stream",
          "name": "stdout",
          "text": [
            "-5\n"
          ]
        }
      ]
    },
    {
      "cell_type": "markdown",
      "source": [
        "Problem:- https://leetcode.com/problems/maximum-sum-circular-subarray/"
      ],
      "metadata": {
        "id": "8RXsCNk1XR1x"
      }
    },
    {
      "cell_type": "code",
      "source": [
        "def maxSubarraySumCircular(nums):\n",
        "  CurrMax=0\n",
        "  CurrMin=0\n",
        "  MaxSum=nums[0]\n",
        "  MinSum=nums[0]\n",
        "  total=0\n",
        "\n",
        "  for num in nums:\n",
        "    CurrMax=max(CurrMax,0)+num\n",
        "    CurrMin=min(CurrMin,0)+num\n",
        "    total+=num\n",
        "    MaxSum=max(MaxSum,CurrMax)\n",
        "    MinSum=min(MinSum,CurrMin)\n",
        "\n",
        "  if (MinSum==total):\n",
        "    return MaxSum       # If all numbers are negative\n",
        "  print(MinSum,MaxSum,total)\n",
        "  return max(MaxSum,total-MinSum)   # For Circular Part\n",
        "print(maxSubarraySumCircular(nums))"
      ],
      "metadata": {
        "colab": {
          "base_uri": "https://localhost:8080/"
        },
        "id": "kQCsvYWNOtaZ",
        "outputId": "f10eddeb-2d23-4127-a504-c1b6735e0dd1"
      },
      "execution_count": 22,
      "outputs": [
        {
          "output_type": "stream",
          "name": "stdout",
          "text": [
            "-5 6 1\n",
            "6\n"
          ]
        }
      ]
    },
    {
      "cell_type": "code",
      "source": [],
      "metadata": {
        "id": "5dbnvEcoTtkv"
      },
      "execution_count": 22,
      "outputs": []
    }
  ]
}