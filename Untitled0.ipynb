{
  "nbformat": 4,
  "nbformat_minor": 0,
  "metadata": {
    "colab": {
      "provenance": [],
      "authorship_tag": "ABX9TyO/cPseM9zfl9/hVOOi6CoO",
      "include_colab_link": true
    },
    "kernelspec": {
      "name": "python3",
      "display_name": "Python 3"
    },
    "language_info": {
      "name": "python"
    }
  },
  "cells": [
    {
      "cell_type": "markdown",
      "metadata": {
        "id": "view-in-github",
        "colab_type": "text"
      },
      "source": [
        "<a href=\"https://colab.research.google.com/github/avibansal/Python/blob/main/Untitled0.ipynb\" target=\"_parent\"><img src=\"https://colab.research.google.com/assets/colab-badge.svg\" alt=\"Open In Colab\"/></a>"
      ]
    },
    {
      "cell_type": "markdown",
      "source": [],
      "metadata": {
        "id": "JViIKeqmV_mt"
      }
    },
    {
      "cell_type": "code",
      "source": [],
      "metadata": {
        "id": "5zbAowQnWHyp"
      },
      "execution_count": null,
      "outputs": []
    },
    {
      "cell_type": "code",
      "execution_count": 15,
      "metadata": {
        "id": "ZIa405CkNKLv"
      },
      "outputs": [],
      "source": [
        "nums = [-2,1,-3,4,-1,2,1,-5,4]"
      ]
    },
    {
      "cell_type": "code",
      "source": [
        "CurrSum=0\n",
        "MaxSum=nums[0]\n",
        "\n",
        "for num in nums:\n",
        "  CurrSum+=num\n",
        "  CurrSum=max(CurrSum,0)\n",
        "  MaxSum=max(MaxSum,CurrSum)\n",
        "print(MaxSum)"
      ],
      "metadata": {
        "colab": {
          "base_uri": "https://localhost:8080/"
        },
        "id": "aofYsLG0NiIw",
        "outputId": "3a50c741-57ea-447b-87c1-5b8a132ca302"
      },
      "execution_count": 6,
      "outputs": [
        {
          "output_type": "stream",
          "name": "stdout",
          "text": [
            "6\n"
          ]
        }
      ]
    },
    {
      "cell_type": "code",
      "source": [
        "CurrSum=0\n",
        "MinSum=nums[0]\n",
        "\n",
        "for num in nums:\n",
        "  CurrSum+=num\n",
        "  CurrSum=min(CurrSum,0)\n",
        "  MinSum=min(MinSum,CurrSum)\n",
        "print(MinSum)"
      ],
      "metadata": {
        "colab": {
          "base_uri": "https://localhost:8080/"
        },
        "id": "p9rEMP34OLEJ",
        "outputId": "368576ae-0a17-41f2-fb5f-6b677d128156"
      },
      "execution_count": 5,
      "outputs": [
        {
          "output_type": "stream",
          "name": "stdout",
          "text": [
            "-5\n"
          ]
        }
      ]
    },
    {
      "cell_type": "code",
      "source": [
        "def maxSubarraySumCircular(nums):\n",
        "  CurrMax=0\n",
        "  CurrMin=0\n",
        "  MaxSum=nums[0]\n",
        "  MinSum=nums[0]\n",
        "  total=0\n",
        "\n",
        "  for num in nums:\n",
        "    CurrMax=max(CurrMax,0)+num\n",
        "    CurrMin=min(CurrMin,0)+num\n",
        "    total+=num\n",
        "    MaxSum=max(MaxSum,CurrMax)\n",
        "    MinSum=min(MinSum,CurrMin)\n",
        "\n",
        "  if (MinSum==total):\n",
        "    return MaxSum\n",
        "  print(MinSum,MaxSum,total)\n",
        "  return max(MaxSum,total-MinSum)\n",
        "print(maxSubarraySumCircular(nums))"
      ],
      "metadata": {
        "colab": {
          "base_uri": "https://localhost:8080/"
        },
        "id": "kQCsvYWNOtaZ",
        "outputId": "02271619-cb74-4df1-cb16-b531c201ee25"
      },
      "execution_count": 17,
      "outputs": [
        {
          "output_type": "stream",
          "name": "stdout",
          "text": [
            "-5 6 1\n",
            "6\n"
          ]
        }
      ]
    },
    {
      "cell_type": "code",
      "source": [],
      "metadata": {
        "id": "5dbnvEcoTtkv"
      },
      "execution_count": null,
      "outputs": []
    }
  ]
}